{
 "cells": [
  {
   "cell_type": "markdown",
   "id": "e6f289c8",
   "metadata": {},
   "source": [
    "# I WILL TRY TO MAKE A NAIVE BAYES ALGORITHM TO PREDICT CROP FROM SCRATCH HERE"
   ]
  },
  {
   "cell_type": "code",
   "execution_count": 1,
   "id": "79fcc0de",
   "metadata": {},
   "outputs": [
    {
     "data": {
      "text/html": [
       "<div>\n",
       "<style scoped>\n",
       "    .dataframe tbody tr th:only-of-type {\n",
       "        vertical-align: middle;\n",
       "    }\n",
       "\n",
       "    .dataframe tbody tr th {\n",
       "        vertical-align: top;\n",
       "    }\n",
       "\n",
       "    .dataframe thead th {\n",
       "        text-align: right;\n",
       "    }\n",
       "</style>\n",
       "<table border=\"1\" class=\"dataframe\">\n",
       "  <thead>\n",
       "    <tr style=\"text-align: right;\">\n",
       "      <th></th>\n",
       "      <th>N</th>\n",
       "      <th>P</th>\n",
       "      <th>K</th>\n",
       "      <th>temperature</th>\n",
       "      <th>humidity</th>\n",
       "      <th>ph</th>\n",
       "      <th>rainfall</th>\n",
       "      <th>label</th>\n",
       "    </tr>\n",
       "  </thead>\n",
       "  <tbody>\n",
       "    <tr>\n",
       "      <th>0</th>\n",
       "      <td>90</td>\n",
       "      <td>42</td>\n",
       "      <td>43</td>\n",
       "      <td>20.879744</td>\n",
       "      <td>82.002744</td>\n",
       "      <td>6.502985</td>\n",
       "      <td>202.935536</td>\n",
       "      <td>rice</td>\n",
       "    </tr>\n",
       "    <tr>\n",
       "      <th>1</th>\n",
       "      <td>85</td>\n",
       "      <td>58</td>\n",
       "      <td>41</td>\n",
       "      <td>21.770462</td>\n",
       "      <td>80.319644</td>\n",
       "      <td>7.038096</td>\n",
       "      <td>226.655537</td>\n",
       "      <td>rice</td>\n",
       "    </tr>\n",
       "    <tr>\n",
       "      <th>2</th>\n",
       "      <td>60</td>\n",
       "      <td>55</td>\n",
       "      <td>44</td>\n",
       "      <td>23.004459</td>\n",
       "      <td>82.320763</td>\n",
       "      <td>7.840207</td>\n",
       "      <td>263.964248</td>\n",
       "      <td>rice</td>\n",
       "    </tr>\n",
       "    <tr>\n",
       "      <th>3</th>\n",
       "      <td>74</td>\n",
       "      <td>35</td>\n",
       "      <td>40</td>\n",
       "      <td>26.491096</td>\n",
       "      <td>80.158363</td>\n",
       "      <td>6.980401</td>\n",
       "      <td>242.864034</td>\n",
       "      <td>rice</td>\n",
       "    </tr>\n",
       "    <tr>\n",
       "      <th>4</th>\n",
       "      <td>78</td>\n",
       "      <td>42</td>\n",
       "      <td>42</td>\n",
       "      <td>20.130175</td>\n",
       "      <td>81.604873</td>\n",
       "      <td>7.628473</td>\n",
       "      <td>262.717340</td>\n",
       "      <td>rice</td>\n",
       "    </tr>\n",
       "    <tr>\n",
       "      <th>...</th>\n",
       "      <td>...</td>\n",
       "      <td>...</td>\n",
       "      <td>...</td>\n",
       "      <td>...</td>\n",
       "      <td>...</td>\n",
       "      <td>...</td>\n",
       "      <td>...</td>\n",
       "      <td>...</td>\n",
       "    </tr>\n",
       "    <tr>\n",
       "      <th>2195</th>\n",
       "      <td>107</td>\n",
       "      <td>34</td>\n",
       "      <td>32</td>\n",
       "      <td>26.774637</td>\n",
       "      <td>66.413269</td>\n",
       "      <td>6.780064</td>\n",
       "      <td>177.774507</td>\n",
       "      <td>coffee</td>\n",
       "    </tr>\n",
       "    <tr>\n",
       "      <th>2196</th>\n",
       "      <td>99</td>\n",
       "      <td>15</td>\n",
       "      <td>27</td>\n",
       "      <td>27.417112</td>\n",
       "      <td>56.636362</td>\n",
       "      <td>6.086922</td>\n",
       "      <td>127.924610</td>\n",
       "      <td>coffee</td>\n",
       "    </tr>\n",
       "    <tr>\n",
       "      <th>2197</th>\n",
       "      <td>118</td>\n",
       "      <td>33</td>\n",
       "      <td>30</td>\n",
       "      <td>24.131797</td>\n",
       "      <td>67.225123</td>\n",
       "      <td>6.362608</td>\n",
       "      <td>173.322839</td>\n",
       "      <td>coffee</td>\n",
       "    </tr>\n",
       "    <tr>\n",
       "      <th>2198</th>\n",
       "      <td>117</td>\n",
       "      <td>32</td>\n",
       "      <td>34</td>\n",
       "      <td>26.272418</td>\n",
       "      <td>52.127394</td>\n",
       "      <td>6.758793</td>\n",
       "      <td>127.175293</td>\n",
       "      <td>coffee</td>\n",
       "    </tr>\n",
       "    <tr>\n",
       "      <th>2199</th>\n",
       "      <td>104</td>\n",
       "      <td>18</td>\n",
       "      <td>30</td>\n",
       "      <td>23.603016</td>\n",
       "      <td>60.396475</td>\n",
       "      <td>6.779833</td>\n",
       "      <td>140.937041</td>\n",
       "      <td>coffee</td>\n",
       "    </tr>\n",
       "  </tbody>\n",
       "</table>\n",
       "<p>2200 rows × 8 columns</p>\n",
       "</div>"
      ],
      "text/plain": [
       "        N   P   K  temperature   humidity        ph    rainfall   label\n",
       "0      90  42  43    20.879744  82.002744  6.502985  202.935536    rice\n",
       "1      85  58  41    21.770462  80.319644  7.038096  226.655537    rice\n",
       "2      60  55  44    23.004459  82.320763  7.840207  263.964248    rice\n",
       "3      74  35  40    26.491096  80.158363  6.980401  242.864034    rice\n",
       "4      78  42  42    20.130175  81.604873  7.628473  262.717340    rice\n",
       "...   ...  ..  ..          ...        ...       ...         ...     ...\n",
       "2195  107  34  32    26.774637  66.413269  6.780064  177.774507  coffee\n",
       "2196   99  15  27    27.417112  56.636362  6.086922  127.924610  coffee\n",
       "2197  118  33  30    24.131797  67.225123  6.362608  173.322839  coffee\n",
       "2198  117  32  34    26.272418  52.127394  6.758793  127.175293  coffee\n",
       "2199  104  18  30    23.603016  60.396475  6.779833  140.937041  coffee\n",
       "\n",
       "[2200 rows x 8 columns]"
      ]
     },
     "execution_count": 1,
     "metadata": {},
     "output_type": "execute_result"
    }
   ],
   "source": [
    "import numpy as np\n",
    "import pandas as pd\n",
    "read = pd.read_csv(\"Crop_recommendation.csv\")\n",
    "read"
   ]
  },
  {
   "cell_type": "code",
   "execution_count": 2,
   "id": "78e30ed7",
   "metadata": {},
   "outputs": [
    {
     "name": "stdout",
     "output_type": "stream",
     "text": [
      "['rice' 'maize' 'chickpea' 'kidneybeans' 'pigeonpeas' 'mothbeans'\n",
      " 'mungbean' 'blackgram' 'lentil' 'pomegranate' 'banana' 'mango' 'grapes'\n",
      " 'watermelon' 'muskmelon' 'apple' 'orange' 'papaya' 'coconut' 'cotton'\n",
      " 'jute' 'coffee']\n",
      "Index(['N', 'P', 'K', 'temperature', 'humidity', 'ph', 'rainfall'], dtype='object')\n"
     ]
    }
   ],
   "source": [
    "print(read['label'].unique())\n",
    "print(read.columns[0:len(read.columns)-1])\n"
   ]
  },
  {
   "cell_type": "code",
   "execution_count": 21,
   "id": "6d20eb03",
   "metadata": {},
   "outputs": [
    {
     "name": "stdout",
     "output_type": "stream",
     "text": [
      "{'riceN': 0.003706911283121473, 'riceP': 3.5692490485336804e-05, 'riceK': 5.1751130411021765e-59, 'ricetemperature': 0.0016270405490615904, 'ricehumidity': 0.0, 'riceph': 0.10491588621349525, 'ricerainfall': 5.950224183823042e-07, 'maizeN': 0.005197756866219006, 'maizeP': 6.988269027902061e-05, 'maizeK': 8.178852464341462e-120, 'maizetemperature': 0.026299574172971338, 'maizehumidity': 9.771789973071242e-19, 'maizeph': 0.0007997646493657844, 'maizerainfall': 0.025603923436413177, 'chickpeaN': 0.0168935819870656, 'chickpeaP': 0.021829969154033024, 'chickpeaK': 0.02085355003628301, 'chickpeatemperature': 0.15437559710532006, 'chickpeahumidity': 0.23145212288588005, 'chickpeaph': 0.4213721879271119, 'chickpearainfall': 0.045105702288151917, 'kidneybeansN': 0.00026383241691955767, 'kidneybeansP': 0.0219792346791442, 'kidneybeansK': 1.5318735584931692e-103, 'kidneybeanstemperature': 0.08894759992038953, 'kidneybeanshumidity': 0.020412658259803745, 'kidneybeansph': 1.3854102292474362e-43, 'kidneybeansrainfall': 0.010651281264986694, 'pigeonpeasN': 0.0005430380466004761, 'pigeonpeasP': 0.021333413715239367, 'pigeonpeasK': 1.3016391850557307e-132, 'pigeonpeastemperature': 0.01358138292656216, 'pigeonpeashumidity': 0.0006678882680555267, 'pigeonpeasph': 0.02596185227162661, 'pigeonpeasrainfall': 0.001662229170304422, 'mothbeansN': 0.0005010223158961694, 'mothbeansP': 2.922333716249823e-05, 'mothbeansK': 1.5318735584931692e-103, 'mothbeanstemperature': 1.1859685162197482e-06, 'mothbeanshumidity': 9.371703266783807e-08, 'mothbeansph': 0.1871177505345411, 'mothbeansrainfall': 0.0017638176626304897, 'mungbeanN': 0.00043545139585453817, 'mungbeanP': 3.19472438409995e-05, 'mungbeanK': 1.0580938509417542e-106, 'mungbeantemperature': 5.26832814008009e-39, 'mungbeanhumidity': 1.1012978038951382e-126, 'mungbeanph': 0.0012082057294650439, 'mungbeanrainfall': 2.4878660408832617e-07, 'blackgramN': 0.017094039545591234, 'blackgramP': 0.02095781845210728, 'blackgramK': 3.2476701025426716e-96, 'blackgramtemperature': 2.5989758024166243e-06, 'blackgramhumidity': 1.2803361242197917e-65, 'blackgramph': 0.21658236727125588, 'blackgramrainfall': 7.261823476705352e-05, 'lentilN': 0.00041140885847549007, 'lentilP': 0.02552146456154465, 'lentilK': 8.178852464341462e-120, 'lentiltemperature': 0.012150531233309628, 'lentilhumidity': 4.875964473845241e-59, 'lentilph': 0.20594226850348674, 'lentilrainfall': 8.65256906294051e-12, 'pomegranateN': 0.0005373492338733085, 'pomegranateP': 5.454546330069437e-16, 'pomegranateK': 1.843569849948139e-50, 'pomegranatetemperature': 0.02391795698330148, 'pomegranatehumidity': 9.198167185159132e-147, 'pomegranateph': 0.016606140712733423, 'pomegranaterainfall': 3.0253918558402743e-16, 'bananaN': 6.611786110909223e-06, 'bananaP': 0.042021593497026125, 'bananaK': 7.90509957012332e-26, 'bananatemperature': 7.11253930976175e-12, 'bananahumidity': 4.096555028282609e-112, 'bananaph': 2.461178790555598e-10, 'bananarainfall': 0.0035917769728644484, 'mangoN': 0.0007219819837950905, 'mangoP': 2.2877112108692634e-11, 'mangoK': 2.8842910016969247e-77, 'mangotemperature': 1.98589781934276e-07, 'mangohumidity': 7.101887724118314e-33, 'mangoph': 0.00870559065591568, 'mangorainfall': 0.000543528637155287, 'grapesN': 0.0014435483107072605, 'grapesP': 2.4765339047603004e-13, 'grapesK': 8.388492243571213e-289, 'grapestemperature': 0.03289814590344471, 'grapeshumidity': 0.0, 'grapesph': 2.7802766124229e-08, 'grapesrainfall': 1.4327075745047774e-06, 'watermelonN': 5.037044206621725e-05, 'watermelonP': 5.852623173552023e-16, 'watermelonK': 3.164995152918414e-28, 'watermelontemperature': 3.227920272489621e-21, 'watermelonhumidity': 8.437102160731592e-117, 'watermelonph': 3.0737288461838e-05, 'watermelonrainfall': 9.590574059010947e-09, 'muskmelonN': 2.5772737294697998e-05, 'muskmelonP': 2.624728820610763e-17, 'muskmelonK': 3.164995152918414e-28, 'muskmelontemperature': 3.407760022646452e-38, 'muskmelonhumidity': 0.0, 'muskmelonph': 6.639689802506909e-09, 'muskmelonrainfall': 5.764182485008712e-100, 'appleN': 0.0005430380466004761, 'appleP': 1.0036254040109229e-12, 'appleK': 3.393273520024849e-258, 'appletemperature': 1.0092465089657583e-09, 'applehumidity': 0.0, 'appleph': 4.6594910424529035e-11, 'applerainfall': 1.415943633937626e-05, 'orangeN': 0.0004482173245654978, 'orangeP': 1.0483010799508462e-15, 'orangeK': 2.551309912139798e-137, 'orangetemperature': 0.04160074590717451, 'orangehumidity': 0.0, 'orangeph': 0.2750315056956694, 'orangerainfall': 1.2451234847842204e-06, 'papayaN': 0.03005265396412417, 'papayaP': 0.0020892061217045728, 'papayaK': 3.6951882686928885e-31, 'papayatemperature': 0.002132996164990454, 'papayahumidity': 0.0, 'papayaph': 1.681941567758765e-11, 'papayarainfall': 0.0040781413782402754, 'coconutN': 0.0006567431565051458, 'coconutP': 9.359869990332653e-14, 'coconutK': 1.0979045565170086e-83, 'coconuttemperature': 1.3447000600031607e-12, 'coconuthumidity': 1.2872905772420545e-183, 'coconutph': 2.6011275826750604e-09, 'coconutrainfall': 0.00010423671974914135, 'cottonN': 1.4177977982854818e-08, 'cottonP': 7.4181659741316755e-06, 'cottonK': 3.2476701025426716e-96, 'cottontemperature': 1.7233438450798244e-08, 'cottonhumidity': 1.4517828724943628e-93, 'cottonph': 0.23381125696493799, 'cottonrainfall': 0.03398096437043299, 'juteN': 0.003303791916429108, 'juteP': 4.522615970412886e-06, 'juteK': 1.420868481031527e-47, 'jutetemperature': 4.952829264738132e-10, 'jutehumidity': 6.715210791264186e-30, 'juteph': 0.05126571678743862, 'juterainfall': 3.193374501660244e-10, 'coffeeN': 2.2605300087183497e-05, 'coffeeP': 5.20657506216676e-12, 'coffeeK': 1.008173559516377e-69, 'coffeetemperature': 1.1246358593596251e-07, 'coffeehumidity': 5.00468322045142e-13, 'coffeeph': 0.051091953538094946, 'coffeerainfall': 0.00023666063919295678}\n"
     ]
    }
   ],
   "source": [
    "import numpy as np\n",
    "import matplotlib.pyplot as plt\n",
    "from scipy.stats import norm\n",
    "from math import exp, sqrt, pi\n",
    "import statistics\n",
    "import seaborn as sb\n",
    "\n",
    "def calculate_probability(x,mean,sd):\n",
    "    exponent = exp(-0.5*((x-mean)/sd)**2)\n",
    "    return ((1/(sd*sqrt(2*pi)))*exponent)\n",
    " \n",
    "N = 54\n",
    "P = 77\n",
    "K = 85\n",
    "temp = 17.40\n",
    "humidity = 17.06\n",
    "ph = 7.8\n",
    "rainfall = 83.74\n",
    "\n",
    "data={}\n",
    "for i in read['label'].unique():\n",
    "    for col in read.columns[0:len(read.columns)-1]:\n",
    "        list = []\n",
    "        for k in range(len(read)):\n",
    "            if read['label'][k] == i:\n",
    "                list.append(read[col][k])\n",
    "        if(col=='N'):\n",
    "            input = N\n",
    "        elif (col == 'P'):\n",
    "            input=P\n",
    "        elif (col=='K'):\n",
    "            input = K\n",
    "        elif (col == 'temperature'):\n",
    "            input = temp\n",
    "        elif (col == 'humidity'):\n",
    "            input = humidity\n",
    "        elif (col == 'ph'):\n",
    "            input = ph\n",
    "        elif (col == 'rainfall'):\n",
    "            input = rainfall\n",
    "            \n",
    "        x = np.asarray(list)\n",
    "        mean = statistics.mean(x)\n",
    "        sd = statistics.stdev(x)\n",
    "        value = calculate_probability(input, mean, sd)\n",
    "        data[str(i)+str(col)] = value\n",
    "\n",
    "print(data)"
   ]
  },
  {
   "cell_type": "code",
   "execution_count": 4,
   "id": "e615b425",
   "metadata": {},
   "outputs": [
    {
     "data": {
      "text/plain": [
       "rice           100\n",
       "maize          100\n",
       "jute           100\n",
       "cotton         100\n",
       "coconut        100\n",
       "papaya         100\n",
       "orange         100\n",
       "apple          100\n",
       "muskmelon      100\n",
       "watermelon     100\n",
       "grapes         100\n",
       "mango          100\n",
       "banana         100\n",
       "pomegranate    100\n",
       "lentil         100\n",
       "blackgram      100\n",
       "mungbean       100\n",
       "mothbeans      100\n",
       "pigeonpeas     100\n",
       "kidneybeans    100\n",
       "chickpea       100\n",
       "coffee         100\n",
       "Name: label, dtype: int64"
      ]
     },
     "execution_count": 4,
     "metadata": {},
     "output_type": "execute_result"
    }
   ],
   "source": [
    "read['label'].value_counts()"
   ]
  },
  {
   "cell_type": "code",
   "execution_count": 5,
   "id": "9cd5cae9",
   "metadata": {},
   "outputs": [
    {
     "data": {
      "text/plain": [
       "0.047619047619047616"
      ]
     },
     "execution_count": 5,
     "metadata": {},
     "output_type": "execute_result"
    }
   ],
   "source": [
    "probabilityofanycrop= 100/(100*21)\n",
    "probabilityofanycrop    "
   ]
  },
  {
   "cell_type": "code",
   "execution_count": 17,
   "id": "9b18b361",
   "metadata": {},
   "outputs": [
    {
     "name": "stdout",
     "output_type": "stream",
     "text": [
      "{'rice': -176.10156388714452, 'maize': -347.9854248143923, 'chickpea': -22.114780858201776, 'kidneybeans': -361.3806947834339, 'pigeonpeas': -339.74910995144523, 'mothbeans': -295.66792690728386, 'mungbean': -665.246252452925, 'blackgram': -404.1904028361584, 'lentil': -454.4492494088713, 'pomegranate': -540.0622814141187, 'banana': -385.8433197317381, 'mango': -312.7368800295102, 'grapes': -736.2005646482959, 'watermelon': -454.64011606097074, 'muskmelon': -448.71914072933055, 'apple': -686.7041356669262, 'orange': -377.8306938150608, 'papaya': -119.25423302808787, 'coconut': -708.7852085545927, 'cotton': -489.27713953489206, 'jute': -242.36843318998467, 'coffee': -254.2400585768499}\n"
     ]
    }
   ],
   "source": [
    "from math import log\n",
    "Score = {}\n",
    "value = log(probabilityofanycrop)\n",
    "for i in read['label'].unique():\n",
    "    for col in read.columns[0:len(read.columns)-1]:\n",
    "        try:\n",
    "            value+=log(data[str(i)+str(col)])\n",
    "        except:\n",
    "            value+=log(1)\n",
    "    Score[i] = value\n",
    "    value = log(probabilityofanycrop)\n",
    "print(Score)"
   ]
  },
  {
   "cell_type": "code",
   "execution_count": 22,
   "id": "284eda74",
   "metadata": {},
   "outputs": [
    {
     "name": "stdout",
     "output_type": "stream",
     "text": [
      "chickpea\n"
     ]
    }
   ],
   "source": [
    "maximum = Score['rice']\n",
    "for keys in Score:\n",
    "    maximum = max(maximum,Score[keys])\n",
    "for keys in Score:\n",
    "    if Score[keys]==maximum :\n",
    "        print(keys)"
   ]
  },
  {
   "cell_type": "code",
   "execution_count": null,
   "id": "19f86ca6",
   "metadata": {},
   "outputs": [],
   "source": []
  }
 ],
 "metadata": {
  "kernelspec": {
   "display_name": "Python 3 (ipykernel)",
   "language": "python",
   "name": "python3"
  },
  "language_info": {
   "codemirror_mode": {
    "name": "ipython",
    "version": 3
   },
   "file_extension": ".py",
   "mimetype": "text/x-python",
   "name": "python",
   "nbconvert_exporter": "python",
   "pygments_lexer": "ipython3",
   "version": "3.9.7"
  }
 },
 "nbformat": 4,
 "nbformat_minor": 5
}
